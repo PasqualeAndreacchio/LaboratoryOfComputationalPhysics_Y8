{
 "cells": [
  {
   "cell_type": "markdown",
   "metadata": {},
   "source": [
    "1\\. Write a function that converts number representation, bin<->dec<->hex. (Clearly using the corresponding python built-in functions is not fair..)"
   ]
  },
  {
   "cell_type": "code",
   "execution_count": 60,
   "metadata": {},
   "outputs": [
    {
     "name": "stdout",
     "output_type": "stream",
     "text": [
      "7\n",
      "11101\n",
      "DC7\n",
      "3527\n"
     ]
    }
   ],
   "source": [
    "def bin_to_dec(num: str):           \n",
    "    power = len(num) - 1        # This calculates the biggest power\n",
    "    dec = 0\n",
    "    for n, p in zip(num, range(power, -1, -1)):\n",
    "        dec += int(n) * 2**p\n",
    "    return dec\n",
    "    \n",
    "print(bin_to_dec(\"00000111\"))\n",
    "\n",
    "\n",
    "def dec_to_bin(num):\n",
    "    power = 0\n",
    "    while num >= 2**(power + 1):\n",
    "        power += 1\n",
    "    bin_str = \"\"    \n",
    "    for i in range(power, -1, -1):\n",
    "        if num >= 2**i:\n",
    "            bin_str += \"1\"\n",
    "            num -= 2**i\n",
    "        else:\n",
    "            bin_str += \"0\"\n",
    "    return bin_str\n",
    "\n",
    "print(dec_to_bin(29))\n",
    "\n",
    "\n",
    "def dec_to_hex(num):\n",
    "    if num == 0:\n",
    "        return 0\n",
    "    \n",
    "    hex_char = \"0123456789ABCDEF\"\n",
    "    hex_str = \"\"\n",
    "\n",
    "    while num > 0:\n",
    "        rem = num % 16\n",
    "        hex_str = hex_char[rem] + hex_str\n",
    "        num //= 16\n",
    "    return hex_str\n",
    "\n",
    "print(dec_to_hex(3527))\n",
    "\n",
    "\n",
    "def hex_to_dec(num: str):\n",
    "    num = num.upper()\n",
    "    hex_char = \"0123456789ABCDEF\"\n",
    "    dec = 0\n",
    "    power = 0\n",
    "    \n",
    "    for digit in reversed(num):\n",
    "        dec += hex_char.index(digit) * 16**power\n",
    "        power += 1\n",
    "    return dec\n",
    "\n",
    "print(hex_to_dec(\"dc7\"))"
   ]
  },
  {
   "cell_type": "markdown",
   "metadata": {},
   "source": [
    "2\\. Write a function that converts a 32 bit word into a single precision floating point (i.e. interprets the various bits as sign, mantissa and exponent)"
   ]
  },
  {
   "cell_type": "code",
   "execution_count": 81,
   "metadata": {},
   "outputs": [
    {
     "name": "stdout",
     "output_type": "stream",
     "text": [
      "-120\n",
      "0.75\n",
      "1.316553672920962e-36\n",
      "2\n",
      "0.375\n",
      "-5.5\n"
     ]
    }
   ],
   "source": [
    "def word_to_float(num: str):       # 1st bit = sign, 2-9 = exp, 10-32 = mantissa\n",
    "    exp = bin_to_dec(num[1:9]) - 127\n",
    "    print(exp)\n",
    "    mantissa = 0\n",
    "    for power in range(23):\n",
    "        mantissa += int(num[power + 9]) * 2**(-power-1)\n",
    "    print(mantissa)\n",
    "    if num[0] == \"0\":\n",
    "        return (1 + mantissa) * 2**exp\n",
    "    else:\n",
    "        return -(1 + mantissa) * 2**exp\n",
    "\n",
    "print(word_to_float(\"00000011111000000000000000000000\"))\n",
    "print(word_to_float(\"11000000101100000000000000000000\"))"
   ]
  },
  {
   "cell_type": "markdown",
   "metadata": {},
   "source": [
    "3\\. Write a program to determine the underflow and overflow limits (within a factor of 2) for python on your computer. \n",
    "\n",
    "**Tips**: define two variables inizialized to 1 and halve/double them enough time to exceed the under/over-flow limits  "
   ]
  },
  {
   "cell_type": "code",
   "execution_count": null,
   "metadata": {},
   "outputs": [],
   "source": [
    "def check_overflow():\n",
    "    over_prev, over_next = 1.0, 2.0\n",
    "    while True:\n",
    "        over_prev *=2.0\n",
    "        over_next *=2.0\n",
    "        if over_next == float(\"inf\"):\n",
    "            print(f\"Overflow limit: {over_prev}\")\n",
    "            break\n",
    "\n",
    "def check_underflow():\n",
    "    under_prev, under_next = 1.0, 0.5\n",
    "    while True:\n",
    "        under_prev /=2.0\n",
    "        under_next /=2.0\n",
    "        if under_next == \"0\":\n",
    "            print(f\"Underflow limit: {over_prev}\")\n",
    "            break\n",
    "\n",
    "check_overflow()\n",
    "check_underflow()"
   ]
  },
  {
   "cell_type": "markdown",
   "metadata": {},
   "source": [
    "4\\. Write a program to determine the machine precision\n",
    "\n",
    "**Tips**: define a new variable by adding a smaller and smaller value (proceeding similarly to prob. 2) to an original variable and check the point where the two are the same "
   ]
  },
  {
   "cell_type": "code",
   "execution_count": null,
   "metadata": {},
   "outputs": [],
   "source": [
    "def machine_precision():\n",
    "    epsilon = 1.0\n",
    "    while 1 + epsilon != 1:\n",
    "        epsilon /= 2.0\n",
    "    return epsilon\n",
    "\n",
    "print(machine_precision())"
   ]
  },
  {
   "cell_type": "markdown",
   "metadata": {},
   "source": [
    "5\\. Write a function that takes in input three parameters $a$, $b$ and $c$ and prints out the two solutions to the quadratic equation $ax^2+bx+c=0$ using the standard formula:\n",
    "$$\n",
    "x=\\frac{-b\\pm\\sqrt{b^2-4ac}}{2a}\n",
    "$$\n",
    "\n",
    "(a) use the program to compute the solution for $a=0.001$, $b=1000$ and $c=0.001$\n",
    "\n",
    "(b) re-express the standard solution formula by multiplying top and bottom by $-b\\mp\\sqrt{b^2-4ac}$ and again find the solution for $a=0.001$, $b=1000$ and $c=0.001$. How does it compare with what previously obtained? Why?\n",
    "\n",
    "(c) write a function that compute the roots of a quadratic equation accurately in all cases"
   ]
  },
  {
   "cell_type": "code",
   "execution_count": 4,
   "metadata": {},
   "outputs": [
    {
     "name": "stdout",
     "output_type": "stream",
     "text": [
      "Using method a, solutions are: -999999.999999 and -9.999894245993346e-07\n",
      "Using method b, solutions are: -1000010.5755125057 and -1.0000000000009999e-06\n"
     ]
    }
   ],
   "source": [
    "import math\n",
    "\n",
    "# Punto a\n",
    "def solutions_a(a: float, b: float, c: float) -> float:\n",
    "    x_1 = (-b - math.sqrt(b**2-4*a*c)) / (2*a)\n",
    "    x_2 = (-b + math.sqrt(b**2-4*a*c)) / (2*a)\n",
    "    return x_1, x_2\n",
    "\n",
    "x1, x2 = solutions_a(0.001, 1000, 0.001)\n",
    "print(f\"Using method a, solutions are: {x1} and {x2}\")\n",
    "\n",
    "\n",
    "# Punto b\n",
    "def solutions_b(a: float, b: float, c: float) -> float:\n",
    "    x_1 = 4*a*c / ((2*a)*(-b + math.sqrt(b**2-4*a*c)))\n",
    "    x_2 = 4*a*c / ((2*a)*(-b - math.sqrt(b**2-4*a*c)))\n",
    "    return x_1, x_2\n",
    "\n",
    "x1b, x2b = solutions_b(0.001, 1000, 0.001)\n",
    "print(f\"Using method b, solutions are: {x1b} and {x2b}\")\n",
    "\n",
    "# Punto c\n"
   ]
  },
  {
   "cell_type": "markdown",
   "metadata": {},
   "source": [
    "6\\. Write a program that implements the function $f(x)=x(x−1)$\n",
    "\n",
    "(a) Calculate the derivative of the function at the point $x = 1$ using the derivative definition:\n",
    "\n",
    "$$\n",
    "\\frac{{\\rm d}f}{{\\rm d}x} = \\lim_{\\delta\\to0} \\frac{f(x+\\delta)-f(x)}{\\delta}\n",
    "$$\n",
    "\n",
    "with $\\delta = 10^{−2}$. Calculate the true value of the same derivative analytically and compare with the answer your program gives. The two will not agree perfectly. Why not?\n",
    "\n",
    "(b) Repeat the calculation for $\\delta = 10^{−4}, 10^{−6}, 10^{−8}, 10^{−10}, 10^{−12}$ and $10^{−14}$. How does the accuracy scales with $\\delta$?"
   ]
  },
  {
   "cell_type": "code",
   "execution_count": 6,
   "metadata": {},
   "outputs": [
    {
     "name": "stdout",
     "output_type": "stream",
     "text": [
      "The analytical answer is 1\n",
      "With the user-defined function we get 1.010000000000001\n",
      "Delta = 0.0001, derivative = 1.0000999999998899\n",
      "Delta = 1e-06, derivative = 1.0000009999177333\n",
      "Delta = 1e-08, derivative = 1.0000000039225287\n",
      "Delta = 1e-10, derivative = 1.000000082840371\n",
      "Delta = 1e-12, derivative = 1.0000889005833413\n",
      "Delta = 1e-14, derivative = 0.9992007221626509\n"
     ]
    }
   ],
   "source": [
    "def f(x: float) -> float:\n",
    "    return x*(x-1)\n",
    "\n",
    "# Punto a\n",
    "def derivative(x: float, delta: float) -> float:\n",
    "    return (f(x+delta) - f(x)) / delta\n",
    "\n",
    "# Derivative of x(x-1) is 2x-1, so in x=1 it's 1\n",
    "print(\"The analytical answer is 1\")\n",
    "print(f\"With the user-defined function we get {derivative(1, 10**(-2))}\")\n",
    "\n",
    "# Punto b\n",
    "deltas = [10**(-4), 10**(-6), 10**(-8), 10**(-10), 10**(-12), 10**(-14)]\n",
    "for delta in deltas:\n",
    "    print(f\"Delta = {delta}, derivative = {derivative(1, delta)}\")"
   ]
  },
  {
   "cell_type": "markdown",
   "metadata": {},
   "source": [
    "7\\. Consider the integral of the semicircle of radius 1:\n",
    "$$\n",
    "I=\\int_{-1}^{1} \\sqrt(1-x^2) {\\rm d}x\n",
    "$$\n",
    "which it's known to be $I=\\frac{\\pi}{2}=1.57079632679...$.\n",
    "Alternatively we can use the Riemann definition of the integral:\n",
    "$$\n",
    "I=\\lim_{N\\to\\infty} \\sum_{k=1}^{N} h y_k \n",
    "$$\n",
    "\n",
    "with $h=2/N$ the width of each of the $N$ slices the domain is divided into and where\n",
    "$y_k$ is the value of the function at the $k-$th slice.\n",
    "\n",
    "(a) Write a programe to compute the integral with $N=100$. How does the result compares to the true value?\n",
    "\n",
    "(b) How much can $N$ be increased if the computation needs to be run in less than a second? What is the gain in running it for 1 minute? \n"
   ]
  },
  {
   "cell_type": "code",
   "execution_count": 12,
   "metadata": {},
   "outputs": [
    {
     "name": "stdout",
     "output_type": "stream",
     "text": [
      "Analytically, the real result is 1.5707963267948966\n",
      "With the user-defined function, the integral is 1.5691342555492493\n",
      "The value we got is 99.89418925819373% of the real one\n"
     ]
    }
   ],
   "source": [
    "import math\n",
    "real_result = math.pi / 2\n",
    "\n",
    "# Punto a\n",
    "def integral(N: int) -> float:\n",
    "    x = -1\n",
    "    h = 2/N\n",
    "    res = 0\n",
    "    for i in range(1, N):\n",
    "        x += h\n",
    "        res += h * math.sqrt(1-x**2)\n",
    "    return res\n",
    "\n",
    "res = integral(100)\n",
    "print(f\"Analytically, the real result is {real_result}\")\n",
    "print(f\"With the user-defined function, the integral is {res}\")\n",
    "print(f\"The value we got is {res/real_result * 100}% of the real one\")"
   ]
  },
  {
   "cell_type": "code",
   "execution_count": 22,
   "metadata": {},
   "outputs": [
    {
     "name": "stdout",
     "output_type": "stream",
     "text": [
      "908 ms ± 29.2 ms per loop (mean ± std. dev. of 7 runs, 1 loop each)\n",
      "We can go up to N = 3000000 and we get 1.5707963265005642 \n",
      "This is 99.99999998126222% of the real one\n"
     ]
    }
   ],
   "source": [
    "%timeit integral(3000000)\n",
    "res = integral(3000000)\n",
    "print(f\"We can go up to N = 3000000 and we get {res} \\nThis is {res/real_result*100}% of the real one\")"
   ]
  }
 ],
 "metadata": {
  "kernelspec": {
   "display_name": "Python 3 (ipykernel)",
   "language": "python",
   "name": "python3"
  },
  "language_info": {
   "codemirror_mode": {
    "name": "ipython",
    "version": 3
   },
   "file_extension": ".py",
   "mimetype": "text/x-python",
   "name": "python",
   "nbconvert_exporter": "python",
   "pygments_lexer": "ipython3",
   "version": "3.13.7"
  }
 },
 "nbformat": 4,
 "nbformat_minor": 4
}
