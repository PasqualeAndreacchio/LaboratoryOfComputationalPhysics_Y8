{
 "cells": [
  {
   "cell_type": "markdown",
   "metadata": {},
   "source": [
    "# Modules/packages/libraries\n",
    "\n",
    "Definitions:\n",
    "\n",
    "  * Modules:\n",
    "  A module is a file which contains python functions, global variables etc. It is nothing but .py file which has python executable code / statement.\n",
    "\n",
    "  * Packages:\n",
    "  A package is a namespace which contains multiple package/modules. It is a directory which contains a special file `__init__.py`\n",
    "  \n",
    "  * Libraries:\n",
    "  A library is a collection of various packages. There is no difference between package and python library conceptually.\n",
    "  \n",
    "Modules/packages/libraries can be easily \"imported\" and made functional in your python code. A set of libriaries comes with every python installation. Others can be installed locally and then imported. Your own code sitting somewhere else in your local computer can be imported too.\n",
    "\n",
    "Further details (very important!) on packages and how to create them can be found online. We may find the need of creating our own during the course."
   ]
  },
  {
   "cell_type": "code",
   "execution_count": 1,
   "metadata": {},
   "outputs": [
    {
     "name": "stdout",
     "output_type": "stream",
     "text": [
      "3.141592653589793\n",
      "3.141592653589793\n",
      "3.141592653589793\n"
     ]
    }
   ],
   "source": [
    "###### all the \"stuff\" that is in the math library can be used\n",
    "import math\n",
    "print(math.pi)\n",
    "\n",
    "# you can give math a label for convenience\n",
    "import math as m\n",
    "print (m.pi)\n",
    "\n",
    "# alternatively you can import only a given \"thing\" from the library\n",
    "from math import pi    #you can add several libraries at once, just list them separated by a \", \"\n",
    "print (pi)\n",
    "\n",
    "# or just get everything (very dangerous!!!)\n",
    "#from math import *\n",
    "#print (sqrt(7))"
   ]
  },
  {
   "cell_type": "markdown",
   "metadata": {},
   "source": [
    "To know which modules are there for you to use just type:"
   ]
  },
  {
   "cell_type": "code",
   "execution_count": 2,
   "metadata": {
    "collapsed": true,
    "jupyter": {
     "outputs_hidden": true
    }
   },
   "outputs": [
    {
     "name": "stdout",
     "output_type": "stream",
     "text": [
      "\n",
      "Please wait a moment while I gather a list of all available modules...\n",
      "\n"
     ]
    },
    {
     "name": "stderr",
     "output_type": "stream",
     "text": [
      "libva info: VA-API version 1.22.0\n",
      "libva info: Trying to open /usr/lib64/dri-nonfree/iHD_drv_video.so\n",
      "libva info: Trying to open /usr/lib64/dri-freeworld/iHD_drv_video.so\n",
      "libva info: Trying to open /usr/lib64/dri/iHD_drv_video.so\n",
      "libva info: Found init function __vaDriverInit_1_22\n",
      "libva info: va_openDriver() returns 0\n",
      "libva info: VA-API version 1.22.0\n",
      "libva info: Trying to open /usr/lib64/dri-nonfree/iHD_drv_video.so\n",
      "libva info: Trying to open /usr/lib64/dri-freeworld/iHD_drv_video.so\n",
      "libva info: Trying to open /usr/lib64/dri/iHD_drv_video.so\n",
      "libva info: Found init function __vaDriverInit_1_22\n",
      "libva info: va_openDriver() returns 0\n"
     ]
    },
    {
     "name": "stdout",
     "output_type": "stream",
     "text": [
      "Cython              boto3               jupyter_console     reprlib\n",
      "IPython             botocore            jupyter_core        requests\n",
      "PIL                 brlapi              jupyter_events      requests_file\n",
      "PyQt5               brotli              jupyter_lsp         requests_ftp\n",
      "PyQt6               bs4                 jupyter_server      requests_gssapi\n",
      "PySide6             builtins            jupyter_server_terminals resource\n",
      "Xlib                bytesize            jupyterlab          rfc3339_validator\n",
      "__future__          bz2                 jupyterlab_pygments rfc3986_validator\n",
      "__hello__           cProfile            jupyterlab_server   rlcompleter\n",
      "_abc                cairo               jupyterlab_widgets  rpds\n",
      "_aix_support        cairocffi           keyring             rpm\n",
      "_android_support    calendar            keyword             rpmautospec\n",
      "_apple_support      capng               kiwisolver          rpmautospec_core\n",
      "_argon2_cffi_bindings certifi             koji                run_command\n",
      "_ast                cffi                koji_cli            runpy\n",
      "_asyncio            charset_normalizer  langtable           s3transfer\n",
      "_audit              click               libcomps            satyr\n",
      "_augeas             cloudpickle         libdnf              scanext\n",
      "_bisect             cmath               libmount            sched\n",
      "_blake2             cmd                 libxml2             schedule\n",
      "_brotli             code                libxml2mod          scipy\n",
      "_bz2                codecs              linecache           scour\n",
      "_capng              codeop              locale              secrets\n",
      "_cffi_backend       collections         logging             secretstorage\n",
      "_codecs             colorsys            louis               select\n",
      "_codecs_cn          comm                lvmdbusd            selectors\n",
      "_codecs_hk          compileall          lxml                selinux\n",
      "_codecs_iso2022     concurrent          lzma                semanage\n",
      "_codecs_jp          configparser        magic               send2trash\n",
      "_codecs_kr          contextlib          mailbox             sentry_sdk\n",
      "_codecs_tw          contextvars         markupsafe          seobject\n",
      "_collections        contourpy           marshal             sepolgen\n",
      "_collections_abc    copy                math                sepolicy\n",
      "_colorize           copyreg             matplotlib          serial\n",
      "_compat_pickle      crypt               matplotlib_inline   setools\n",
      "_compression        crypt_r             meh                 setroubleshoot\n",
      "_contextvars        cryptography        mercurial           setuptools\n",
      "_crypt_r            cson                mimetypes           shelve\n",
      "_csv                cspsubdiv           mistune             shiboken6\n",
      "_ctypes             cssselect           mmap                shlex\n",
      "_curses             csv                 mockbuild           shtab\n",
      "_curses_panel       ctypes              modulefinder        shutil\n",
      "_datetime           cubicsuperpath      more_itertools      signal\n",
      "_dbm                cups                mouseinfo           simpleaudio\n",
      "_dbus_bindings      cupsext             mpmath              simpleline\n",
      "_dbus_glib_bindings cupshelpers         multidict           simplepath\n",
      "_decimal            curses              multiprocessing     simplestyle\n",
      "_distutils_hack     cycler              nbclient            simpletransform\n",
      "_elementtree        cython              nbconvert           site\n",
      "_functools          dasbus              nbformat            six\n",
      "_gdbm               dataclasses         nest_asyncio        sklearn\n",
      "_hashlib            datetime            netifaces           smtplib\n",
      "_heapq              dateutil            netrc               sniffio\n",
      "_imp                dbm                 networkx            socket\n",
      "_interpchannels     dbus                nftables            socketserver\n",
      "_interpqueues       dbus_next           notebook            socks\n",
      "_interpreters       decimal             notebook_shim       sockshandler\n",
      "_io                 decorator           ntpath              sos\n",
      "_ios_support        defusedxml          nturl2path          soupsieve\n",
      "_json               deprecated          numbers             speechd\n",
      "_locale             difflib             numexpr             speechd_config\n",
      "_lsprof             dis                 numpy               speg\n",
      "_lzma               distro              officehelper        spyder_kernels\n",
      "_markupbase         dnf                 olefile             sqlite3\n",
      "_md5                dnfpluginscore      opcode              sre_compile\n",
      "_multibytecodec     doctest             operator            sre_constants\n",
      "_multiprocessing    drv_libxml2         optparse            sre_parse\n",
      "_opcode             email               orca                ssl\n",
      "_opcode_metadata    enchant             os                  stack_data\n",
      "_operator           encodings           packaging           stat\n",
      "_osx_support        ensurepip           pandas              statistics\n",
      "_ped                enum                pandocfilters       string\n",
      "_pickle             errno               parso               stringprep\n",
      "_posixshmem         executing           parted              struct\n",
      "_posixsubprocess    fastjsonschema      pathlib             subprocess\n",
      "_py_abc             faulthandler        pdb                 sympy\n",
      "_pydatetime         fc_solve_find_index_s2ints pdfarranger         symtable\n",
      "_pydecimal          fcntl               perf                sys\n",
      "_pyio               fedora_third_party  pexpect             sysconfig\n",
      "_pylong             ffgeom              pickle              syslog\n",
      "_pyrepl             filecmp             pickletools         systemd\n",
      "_queue              fileinput           pid                 tabnanny\n",
      "_random             firewall            pikepdf             tarfile\n",
      "_selinux            flask               pip                 tempfile\n",
      "_semanage           fnmatch             pkg_resources       templated_dictionary\n",
      "_sha1               fontTools           pkgutil             terminado\n",
      "_sha2               fontforge           platform            termios\n",
      "_sha3               fqdn                platformdirs        test_pycosat\n",
      "_signal             fractions           plistlib            textwrap\n",
      "_sitebuiltins       frozenlist          ply                 this\n",
      "_socket             ftplib              pooch               threading\n",
      "_sqlite3            functools           poplib              threadpoolctl\n",
      "_sre                gc                  posix               time\n",
      "_ssl                genericpath         posixpath           timeit\n",
      "_stat               getopt              pprint              tinycss2\n",
      "_statistics         getpass             pr2modules          tkinter\n",
      "_string             gettext             problem             token\n",
      "_strptime           gi                  procfs              tokenize\n",
      "_struct             glob                productmd           tomli\n",
      "_suggestions        gmpy2               profile             tomllib\n",
      "_symtable           gnome_abrt          progressbar         torbrowser_launcher\n",
      "_sysconfig          gpg                 prometheus_client   tornado\n",
      "_sysconfigdata__linux_x86_64-linux-gnu graphlib            prompt_toolkit      trace\n",
      "_thread             grp                 psMat               traceback\n",
      "_threading_local    gssapi              pstats              tracemalloc\n",
      "_tkinter            gzip                psutil              traitlets\n",
      "_tokenize           h11                 pty                 tty\n",
      "_tracemalloc        hashlib             ptyprocess          tuned\n",
      "_typing             hawkey              pure_eval           turtle\n",
      "_unbound            heapq               pwd                 turtledemo\n",
      "_uuid               hgdemandimport      pwquality           typeguard\n",
      "_warnings           hgext               py_compile          types\n",
      "_weakref            hgext3rd            pyanaconda          typing\n",
      "_weakrefset         hmac                pyatspi             typing_extensions\n",
      "_yaml               hpmudext            pyaudio             unbound\n",
      "_zoneinfo           html                pyautogui           unboundmodule\n",
      "abc                 html5lib            pycares             unicodedata\n",
      "abrt_exception_handler3 http                pyclbr              unittest\n",
      "abrtcli             httpcore            pycosat             uno\n",
      "aiodns              httpx               pycparser           unohelper\n",
      "aiohappyeyeballs    humanize            pydoc               uri_template\n",
      "aiohttp             idlelib             pydoc_data          urllib\n",
      "aiosignal           idna                pyexpat             urllib3\n",
      "antigravity         imaplib             pygdbmi             uuid\n",
      "antlr4              img2pdf             pygetwindow         venv\n",
      "anyio               importlib           pyglet              warnings\n",
      "appdirs             importlib_metadata  pygments            wave\n",
      "argcomplete         importlib_resources pygtkcompat         wcwidth\n",
      "argon2              inflect             pyinotify           weakref\n",
      "argparse            initial_setup       pykickstart         webbrowser\n",
      "array               inkex               pylab               webcolors\n",
      "arrow               inspect             pymsgbox            webencodings\n",
      "ast                 io                  pyparsing           websocket\n",
      "asttokens           ipaddress           pyperclip           werkzeug\n",
      "async_lru           ipykernel           pyrect              wheel\n",
      "asyncio             ipykernel_launcher  pyroute2            widgetsnbextension\n",
      "atexit              ipywidgets          pyscreeze           wikipedia\n",
      "attr                iso639              python_utils        wrapt\n",
      "attrs               isoduration         pythonjsonlogger    wsgiref\n",
      "audit               isympy              pytweening          wurlitzer\n",
      "augeas              itertools           pytz                xdg\n",
      "auparse             itsdangerous        pyudev              xkbregistry\n",
      "autocommand         jedi                pywhatkit           xml\n",
      "babel               jeepney             pyximport           xmlrpc\n",
      "backoff             jinja2              pyynl               yaml\n",
      "backports           jmespath            queue               yarl\n",
      "base64              joblib              quopri              zipapp\n",
      "bdb                 jp2                 random              zipfile\n",
      "bezmisc             json                rapidfuzz           zipimport\n",
      "binascii            json5               re                  zipp\n",
      "bisect              jsonpointer         readline            zlib\n",
      "bleach              jsonschema          referencing         zmq\n",
      "blinker             jsonschema_specifications regex               zoneinfo\n",
      "blivet              jupyter             report              \n",
      "blivetgui           jupyter_client      reportclient        \n",
      "\n",
      "Enter any module name to get more help.  Or, type \"modules spam\" to search\n",
      "for modules whose name or summary contain the string \"spam\".\n",
      "\n",
      "None\n"
     ]
    }
   ],
   "source": [
    "print (help('modules') )\n"
   ]
  },
  {
   "cell_type": "markdown",
   "metadata": {},
   "source": [
    "`pip` is a special package. It is used from the command line to install properly (e.g. matching the version of the local packages) new packages. It can also be used from within python to check i.e. the set installed packages and their versions. N.B.: only the installed packages on top of the default ones will be listed "
   ]
  },
  {
   "cell_type": "code",
   "execution_count": 3,
   "metadata": {
    "collapsed": true,
    "jupyter": {
     "outputs_hidden": true
    }
   },
   "outputs": [
    {
     "name": "stdout",
     "output_type": "stream",
     "text": [
      "['aext-assistant-server==4.20.0', 'aext-assistant==4.20.0', 'aext-core-server==4.20.0', 'aext-core==4.20.0', 'aext-environments-server==4.20.0', 'aext-panels-server==4.20.0', 'aext-panels==4.20.0', 'aext-project-filebrowser-server==4.20.0', 'aext-share-notebook-server==4.20.0', 'aext-share-notebook==4.20.0', 'aext-shared==4.20.0', 'aext-toolbox==4.20.0', 'aiobotocore==2.19.0', 'aiohappyeyeballs==2.4.4', 'aiohttp==3.11.10', 'aioitertools==0.7.1', 'aiosignal==1.2.0', 'alabaster==0.7.16', 'alembic==1.16.2', 'altair==5.5.0', 'anaconda-anon-usage==0.7.1', 'anaconda-auth==0.8.6', 'anaconda-catalogs==0.2.0', 'anaconda-cli-base==0.5.2', 'anaconda-client==1.13.0', 'anaconda-navigator==2.6.6', 'anaconda-project==0.11.1', 'annotated-types==0.6.0', 'anyio==4.7.0', 'appdirs==1.4.4', 'applaunchservices==0.3.0', 'appnope==0.1.3', 'appscript==1.3.0', 'archspec==0.2.3', 'argon2-cffi-bindings==21.2.0', 'argon2-cffi==21.3.0', 'arrow==1.3.0', 'astroid==3.3.8', 'astropy-iers-data==0.2025.1.13.0.34.51', 'astropy==7.0.0', 'asttokens==3.0.0', 'async-lru==2.0.4', 'asyncssh==2.17.0', 'atomicwrites==1.4.0', 'attrs==24.3.0', 'autocommand==2.2.2', 'automat==24.8.1', 'autopep8==2.0.4', 'babel==2.16.0', 'backports.tarfile==1.2.0', 'bcrypt==4.3.0', 'beautifulsoup4==4.12.3', 'binaryornot==0.4.4', 'black==24.10.0', 'bleach==6.2.0', 'blinker==1.9.0', 'bokeh==3.6.2', 'boltons==24.1.0', 'botocore==1.36.3', 'bottleneck==1.4.2', 'brotli==1.0.9', 'cachetools==5.5.1', 'certifi==2025.8.3', 'cffi==1.17.1', 'chardet==4.0.0', 'charset-normalizer==3.3.2', 'click==8.1.8', 'cloudpickle==3.0.0', 'colorama==0.4.6', 'colorcet==3.1.0', 'comm==0.2.1', 'conda-anaconda-telemetry==0.1.2', 'conda-anaconda-tos==0.2.0', 'conda-build==25.5.0', 'conda-content-trust==0.2.0', 'conda-index==0.6.1', 'conda-libmamba-solver==25.4.0', 'conda-pack==0.7.1', 'conda-package-handling==2.4.0', 'conda-package-streaming==0.11.0', 'conda-repo-cli==1.0.165', 'conda-token==0.6.0', 'conda==25.5.1', 'constantly==23.10.4', 'contourpy==1.3.1', 'cookiecutter==1.7.3', 'cryptography==44.0.1', 'cssselect==1.2.0', 'cycler==0.11.0', 'cytoolz==1.0.1', 'dask-expr==2.0.0', 'dask==2025.2.0', 'datashader==0.18.0', 'debugpy==1.8.11', 'decorator==5.1.1', 'defusedxml==0.7.1', 'deprecated==1.2.13', 'diff-match-patch==20200713', 'dill==0.3.8', 'distributed==2025.2.0', 'distro==1.9.0', 'dmglib==0.9.5', 'docstring-to-markdown==0.11', 'docutils==0.21.2', 'et-xmlfile==1.1.0', 'evalidate==2.0.3', 'executing==0.8.3', 'fastjsonschema==2.20.0', 'filelock==3.17.0', 'flake8==7.1.1', 'flask==3.1.0', 'fonttools==4.55.3', 'frozendict==2.4.2', 'frozenlist==1.5.0', 'fsspec==2025.3.2', 'gitdb==4.0.7', 'gitpython==3.1.43', 'gmpy2==2.2.1', 'greenlet==3.1.1', 'h11==0.16.0', 'h5py==3.12.1', 'heapdict==1.0.1', 'holoviews==1.20.2', 'httpcore==1.0.9', 'httpx==0.28.1', 'hvplot==0.11.3', 'hyperlink==21.0.0', 'idna==3.7', 'imageio==2.37.0', 'imagesize==1.4.1', 'imbalanced-learn==0.13.0', 'importlib-metadata==8.5.0', 'importlib-resources==6.4.0', 'incremental==24.7.2', 'inflect==7.3.1', 'inflection==0.5.1', 'iniconfig==1.1.1', 'intake==2.0.7', 'intervaltree==3.1.0', 'ipykernel==6.29.5', 'ipython==8.30.0', 'ipywidgets==8.1.5', 'isort==6.0.1', 'itemadapter==0.3.0', 'itemloaders==1.3.2', 'itsdangerous==2.2.0', 'jaraco.classes==3.2.1', 'jaraco.context==0.0.0', 'jaraco.functools==4.1.0', 'jaraco.text==3.12.1', 'jedi==0.19.2', 'jellyfish==1.1.3', 'jinja2-time==0.2.0', 'jinja2==3.1.6', 'jmespath==1.0.1', 'joblib==1.4.2', 'json5==0.9.25', 'jsonpatch==1.33', 'jsonpointer==2.1', 'jsonschema-specifications==2023.7.1', 'jsonschema==4.23.0', 'jupyter-client==8.6.3', 'jupyter-console==6.6.3', 'jupyter-core==5.7.2', 'jupyter-events==0.12.0', 'jupyter-lsp==2.2.5', 'jupyter-server-terminals==0.5.3', 'jupyter-server==2.15.0', 'jupyter==1.1.1', 'jupyterlab-pygments==0.3.0', 'jupyterlab-server==2.27.3', 'jupyterlab-widgets==3.0.13', 'jupyterlab==4.3.4', 'keyring==25.6.0', 'kiwisolver==1.4.8', 'lazy-loader==0.4', 'lckr-jupyterlab-variableinspector==3.2.4', 'libarchive-c==5.1', 'libmambapy==2.0.5', 'lief==0.16.4', 'linkify-it-py==2.0.0', 'llvmlite==0.44.0', 'lmdb==1.6.2', 'locket==1.0.0', 'lxml==5.3.0', 'lz4==4.3.2', 'mako==1.2.3', 'markdown-it-py==2.2.0', 'markdown==3.8', 'markupsafe==3.0.2', 'matplotlib-inline==0.1.6', 'matplotlib==3.10.0', 'mccabe==0.7.0', 'mdit-py-plugins==0.3.0', 'mdurl==0.1.0', 'menuinst==2.2.0', 'mistune==3.1.2', 'more-itertools==10.3.0', 'mpmath==1.3.0', 'msgpack==1.0.3', 'multidict==6.1.0', 'multipledispatch==0.6.0', 'mypy-extensions==1.0.0', 'mypy==1.14.1', 'narwhals==1.31.0', 'navigator-updater==0.5.1', 'nb-conda-kernels==2.5.2', 'nbclient==0.10.2', 'nbconvert==7.16.6', 'nbformat==5.10.4', 'nest-asyncio==1.6.0', 'networkx==3.4.2', 'nltk==3.9.1', 'notebook-shim==0.2.4', 'notebook==7.3.2', 'numba==0.61.0', 'numexpr==2.10.1', 'numpy==2.1.3', 'numpydoc==1.2', 'openpyxl==3.1.5', 'ordered-set==4.1.0', 'overrides==7.4.0', 'packaging==24.2', 'pandas==2.2.3', 'pandocfilters==1.5.0', 'panel==1.7.0', 'param==2.2.0', 'parsel==1.8.1', 'parso==0.8.4', 'partd==1.4.2', 'pathspec==0.10.3', 'patsy==1.0.1', 'pexpect==4.8.0', 'pickleshare==0.7.5', 'pillow==11.1.0', 'pip==25.1', 'pkce==1.0.3', 'pkginfo==1.12.0', 'platformdirs==4.3.7', 'plotly==5.24.1', 'pluggy==1.5.0', 'ply==3.11', 'poyo==0.5.0', 'prometheus-client==0.21.1', 'prompt-toolkit==3.0.43', 'propcache==0.3.1', 'protego==0.4.0', 'protobuf==5.29.3', 'psutil==5.9.0', 'ptyprocess==0.7.0', 'pure-eval==0.2.2', 'py-cpuinfo==9.0.0', 'pyarrow==19.0.0', 'pyasn1-modules==0.2.8', 'pyasn1==0.4.8', 'pycodestyle==2.12.1', 'pycosat==0.6.6', 'pycparser==2.21', 'pyct==0.5.0', 'pycurl==7.45.6', 'pydantic-core==2.27.1', 'pydantic-settings==2.6.1', 'pydantic==2.10.3', 'pydispatcher==2.0.5', 'pydocstyle==6.3.0', 'pyerfa==2.0.1.5', 'pyflakes==3.2.0', 'pygithub==2.4.0', 'pygments==2.19.1', 'pyjwt==2.10.1', 'pylint-venv==3.0.3', 'pylint==3.3.5', 'pyls-spyder==0.4.0', 'pynacl==1.5.0', 'pyobjc-core==10.1', 'pyobjc-framework-cocoa==10.1', 'pyobjc-framework-coreservices==10.1', 'pyobjc-framework-fsevents==10.1', 'pyodbc==5.2.0', 'pyopenssl==25.0.0', 'pyparsing==3.2.0', 'pyqt5-sip==12.13.0', 'pyqt5==5.15.10', 'pyqtwebengine==5.15.6', 'pysocks==1.7.1', 'pytest==8.3.4', 'python-dateutil==2.9.0.post0', 'python-dotenv==1.1.0', 'python-json-logger==3.2.1', 'python-lsp-black==2.0.0', 'python-lsp-jsonrpc==1.1.2', 'python-lsp-server==1.12.2', 'python-slugify==5.0.2', 'pytoolconfig==1.2.6', 'pytz==2024.1', 'pyuca==1.2', 'pyviz-comms==3.0.2', 'pywavelets==1.8.0', 'pyyaml==6.0.2', 'pyzmq==26.2.0', 'qdarkstyle==3.2.3', 'qstylizer==0.2.2', 'qtawesome==1.4.0', 'qtconsole==5.6.1', 'qtpy==2.4.1', 'queuelib==1.6.2', 'readchar==4.0.5', 'referencing==0.30.2', 'regex==2024.11.6', 'requests-file==2.1.0', 'requests-toolbelt==1.0.0', 'requests==2.32.3', 'rfc3339-validator==0.1.4', 'rfc3986-validator==0.1.1', 'rich==13.9.4', 'roman-numerals-py==3.1.0', 'rope==1.13.0', 'rpds-py==0.22.3', 'rtree==1.0.1', 'ruamel-yaml-conda==0.17.21', 'ruamel.yaml.clib==0.2.12', 'ruamel.yaml==0.18.10', 's3fs==2025.3.2', 'scikit-image==0.25.0', 'scikit-learn==1.6.1', 'scipy==1.15.3', 'scrapy==2.12.0', 'seaborn==0.13.2', 'semver==3.0.2', 'send2trash==1.8.2', 'sentry-sdk==2.18.0', 'service-identity==24.2.0', 'setuptools==72.1.0', 'shellingham==1.5.0', 'sip==6.7.12', 'six==1.17.0', 'sklearn-compat==0.1.3', 'smmap==4.0.0', 'sniffio==1.3.0', 'snowballstemmer==2.2.0', 'sortedcontainers==2.4.0', 'soupsieve==2.5', 'sphinx==8.2.3', 'sphinxcontrib-applehelp==2.0.0', 'sphinxcontrib-devhelp==2.0.0', 'sphinxcontrib-htmlhelp==2.1.0', 'sphinxcontrib-jsmath==1.0.1', 'sphinxcontrib-qthelp==2.0.0', 'sphinxcontrib-serializinghtml==2.0.0', 'spyder-kernels==3.0.5', 'spyder==6.0.7', 'sqlalchemy==2.0.39', 'stack-data==0.2.0', 'statsmodels==0.14.4', 'streamlit==1.45.1', 'superqt==0.7.3', 'sympy==1.13.3', 'tables==3.10.2', 'tabulate==0.9.0', 'tblib==3.1.0', 'tenacity==9.0.0', 'terminado==0.17.1', 'text-unidecode==1.3', 'textdistance==4.2.1', 'threadpoolctl==3.5.0', 'three-merge==0.1.1', 'tifffile==2025.2.18', 'tinycss2==1.4.0', 'tldextract==5.1.2', 'toml==0.10.2', 'tomli==2.0.1', 'tomlkit==0.13.2', 'toolz==1.0.0', 'tornado==6.5.1', 'tqdm==4.67.1', 'traitlets==5.14.3', 'truststore==0.10.0', 'twisted==24.11.0', 'typeguard==4.3.0', 'typer==0.9.0', 'typing-extensions==4.12.2', 'tzdata==2025.2', 'uc-micro-py==1.0.1', 'ujson==5.10.0', 'unidecode==1.3.8', 'urllib3==2.3.0', 'w3lib==2.1.2', 'watchdog==4.0.2', 'wcwidth==0.2.5', 'webencodings==0.5.1', 'websocket-client==1.8.0', 'werkzeug==3.1.3', 'whatthepatch==1.0.2', 'wheel==0.45.1', 'widgetsnbextension==4.0.13', 'wrapt==1.17.0', 'wurlitzer==3.0.2', 'xarray==2025.4.0', 'xlwings==0.32.1', 'xyzservices==2022.9.0', 'yapf==0.40.2', 'yarl==1.18.0', 'zict==3.0.0', 'zipp==3.21.0', 'zope.interface==7.1.1', 'zstandard==0.23.0']\n"
     ]
    }
   ],
   "source": [
    "\"\"\"\"\"\n",
    "try:\n",
    "    # this doesn't work anymore\n",
    "    import pip\n",
    "    sorted([\"%s==%s\" % (i.key, i.version) for i in pip._internal.utils.misc.get_installed_distributions()])\n",
    "    print (\"within try\")\n",
    "\"\"\"\"\" \n",
    "# use this instead\n",
    "import pkg_resources\n",
    "installed_packages = pkg_resources.working_set\n",
    "installed_packages_list = sorted([\"%s==%s\" % (i.key, i.version)\n",
    "    for i in installed_packages])\n",
    "print(installed_packages_list)\n"
   ]
  },
  {
   "cell_type": "markdown",
   "metadata": {},
   "source": [
    "# Copies and Views\n",
    "\n",
    "#### Copies:\n",
    "* A **copy** creates a new object that is a duplicate of the original one.\n",
    "* Changes made to the copy do not affect the original object, and vice versa.\n",
    "* There are two types of copies:\n",
    "  * Shallow Copy: Only the top-level object is copied. If the original object contains references to other objects (e.g., a list of lists), the references are copied, not the objects themselves.\n",
    "  * Deep Copy: A complete copy is made, including all nested objects. Changes to any part of the deep copy won’t affect the original object."
   ]
  },
  {
   "cell_type": "code",
   "execution_count": 3,
   "metadata": {},
   "outputs": [
    {
     "name": "stdout",
     "output_type": "stream",
     "text": [
      "Original: [1, 2, [300, 4]]\n",
      "Shallow Copy: [100, 2, [300, 4]]\n"
     ]
    }
   ],
   "source": [
    "import copy\n",
    "original = [1, 2, [3, 4]]\n",
    "shallow_copy = copy.copy(original)\n",
    "\n",
    "shallow_copy[0] = 100  # This won't affect the original\n",
    "shallow_copy[2][0] = 300  # This will affect the original's nested list\n",
    "\n",
    "print(\"Original:\", original)  \n",
    "print(\"Shallow Copy:\", shallow_copy) \n"
   ]
  },
  {
   "cell_type": "markdown",
   "metadata": {},
   "source": [
    "#### Views:\n",
    "* A view provides a reference to the original object without creating a new object.\n",
    "* Changes made through the view directly affect the original object because the view is simply another way of accessing the original data.\n",
    "* We will see in the next classes that NumPy arrays and Pandas DataFrames often deal with views when you slice or manipulate them.\n"
   ]
  },
  {
   "cell_type": "code",
   "execution_count": 4,
   "metadata": {},
   "outputs": [
    {
     "name": "stdout",
     "output_type": "stream",
     "text": [
      "Original array: [  1 100   3   4]\n",
      "View: [100   3]\n"
     ]
    }
   ],
   "source": [
    "import numpy as np\n",
    "arr = np.array([1, 2, 3, 4])\n",
    "view = arr[1:3]  # This creates a view, not a copy\n",
    "\n",
    "view[0] = 100  # Modifies the original array\n",
    "\n",
    "print(\"Original array:\", arr)  \n",
    "print(\"View:\", view)  \n"
   ]
  },
  {
   "cell_type": "markdown",
   "metadata": {},
   "source": [
    "# Functions"
   ]
  },
  {
   "cell_type": "code",
   "execution_count": 8,
   "metadata": {},
   "outputs": [
    {
     "name": "stdout",
     "output_type": "stream",
     "text": [
      "9\n",
      "27\n",
      "cube 27\n",
      "square 9\n"
     ]
    }
   ],
   "source": [
    "def square(x):\n",
    "    \"\"\"Square of x.\"\"\"\n",
    "    return x*x\n",
    "\n",
    "def cube(x):\n",
    "    \"\"\"Cube of x.\"\"\"\n",
    "    return x*x*x\n",
    "\n",
    "# create a dictionary of functions\n",
    "funcs = {\n",
    "    'square': square,\n",
    "    'cube': cube,\n",
    "}\n",
    "\n",
    "x = 3\n",
    "print(square(x))\n",
    "print(cube(x))\n",
    "\n",
    "for func in sorted(funcs):\n",
    "    print (func, funcs[func](x))"
   ]
  },
  {
   "cell_type": "markdown",
   "metadata": {},
   "source": [
    "## Functions arguments"
   ]
  },
  {
   "cell_type": "markdown",
   "metadata": {},
   "source": [
    "In Python, whether arguments passed to a function are treated as views or copies depends on the data type of the argument and how it is handled inside the function. Here's how Python handles various types of arguments:\n",
    "\n",
    "**Immutable Types** (e.g., integers, strings, tuples):\n",
    "* For immutable types like `int`, `str`, and `tuple`, when you pass them as arguments to a function, Python creates a copy of the reference to the object, not the object itself.\n",
    "* Since these objects cannot be modified, any attempt to change them inside the function results in the creation of a new object, leaving the original object unchanged."
   ]
  },
  {
   "cell_type": "code",
   "execution_count": 6,
   "metadata": {},
   "outputs": [
    {
     "name": "stdout",
     "output_type": "stream",
     "text": [
      "Inside function: 11\n",
      "Outside function: 10\n"
     ]
    }
   ],
   "source": [
    "def modify(x):\n",
    "    x += 1\n",
    "    print(\"Inside function:\", x)\n",
    "\n",
    "a = 10\n",
    "modify(a)\n",
    "print(\"Outside function:\", a)\n"
   ]
  },
  {
   "cell_type": "markdown",
   "metadata": {},
   "source": [
    "**Mutable Types** (e.g., lists, dictionaries, sets):\n",
    "* For mutable types like `list`, `dict`, or `set`, Python passes a reference to the original object. This means that any modification made to the object inside the function will affect the original object outside the function, as they both reference the same object (this behaves like a view)."
   ]
  },
  {
   "cell_type": "code",
   "execution_count": 7,
   "metadata": {},
   "outputs": [
    {
     "name": "stdout",
     "output_type": "stream",
     "text": [
      "Inside function: [1, 2, 3, 4]\n",
      "Outside function: [1, 2, 3, 4]\n"
     ]
    }
   ],
   "source": [
    "def modify_list(lst):\n",
    "    lst.append(4)\n",
    "    print(\"Inside function:\", lst)\n",
    "\n",
    "my_list = [1, 2, 3]\n",
    "modify_list(my_list)\n",
    "print(\"Outside function:\", my_list)\n"
   ]
  },
  {
   "cell_type": "markdown",
   "metadata": {},
   "source": [
    "## Higher order functions\n",
    "\n",
    "A function that uses another function as an input argument or returns a function is known as a higher-order function (HOF). The most familiar examples are `map` and `filter`."
   ]
  },
  {
   "cell_type": "markdown",
   "metadata": {},
   "source": [
    "### map\n",
    "\n",
    "The map function applies a function to each member of a collection"
   ]
  },
  {
   "cell_type": "code",
   "execution_count": 12,
   "metadata": {},
   "outputs": [
    {
     "data": {
      "text/plain": [
       "[0, 1, 4, 9, 16, 25]"
      ]
     },
     "execution_count": 12,
     "metadata": {},
     "output_type": "execute_result"
    }
   ],
   "source": [
    "#x = list(map(cube, range(5))) \n",
    "#print (x)\n",
    "\n",
    "# Note the difference w.r.t python 2. In python 3 map retuns an iterator so you can do stuff like:\n",
    "#for i in map(square,range(5)): print(i)\n",
    "\n",
    "# or\n",
    "[i for i in map(square,range(6))]"
   ]
  },
  {
   "cell_type": "markdown",
   "metadata": {},
   "source": [
    "### filter\n",
    "\n",
    "The filter function applies a predicate to each member of a collection, retaining only those members where the predicate is True"
   ]
  },
  {
   "cell_type": "code",
   "execution_count": 11,
   "metadata": {},
   "outputs": [
    {
     "name": "stdout",
     "output_type": "stream",
     "text": [
      "[0, 2, 4]\n"
     ]
    }
   ],
   "source": [
    "def is_even(x):\n",
    "    return x%2 == 0\n",
    "\n",
    "print (list(filter(is_even, range(5))))"
   ]
  },
  {
   "cell_type": "markdown",
   "metadata": {},
   "source": [
    "Combinations in sequence of HOF are obviously possible"
   ]
  },
  {
   "cell_type": "code",
   "execution_count": 16,
   "metadata": {},
   "outputs": [
    {
     "name": "stdout",
     "output_type": "stream",
     "text": [
      "[0, 4, 16]\n",
      "[0, 8, 64, 216]\n"
     ]
    }
   ],
   "source": [
    "print(list(map(square, filter(is_even, range(5)))))\n",
    "print(list(map(cube, filter(is_even, range(7)))))"
   ]
  },
  {
   "cell_type": "markdown",
   "metadata": {},
   "source": [
    "### reduce\n",
    "\n",
    "The reduce function reduces a collection using a binary operator to combine items two at a time. More often than not reduce can be substituted with a more efficient for loop. It is worth mentioning it for its key role in big-data applications together with map (the map-reduce paradigm). \n",
    "N.B.: it no loger exist as built-in function in python 3, it is now part of the `functools` library"
   ]
  },
  {
   "cell_type": "code",
   "execution_count": 17,
   "metadata": {},
   "outputs": [
    {
     "data": {
      "text/plain": [
       "15"
      ]
     },
     "execution_count": 17,
     "metadata": {},
     "output_type": "execute_result"
    }
   ],
   "source": [
    "from functools import reduce\n",
    "\n",
    "def my_add(x, y):\n",
    "    return x + y\n",
    "\n",
    "# another implementation of the sum function\n",
    "reduce(my_add, [1,2,3,4,5])"
   ]
  },
  {
   "cell_type": "markdown",
   "metadata": {},
   "source": [
    "### zip\n",
    "\n",
    "zip is useful when you need to iterate over matched elements of multiple lists"
   ]
  },
  {
   "cell_type": "code",
   "execution_count": 18,
   "metadata": {},
   "outputs": [
    {
     "name": "stdout",
     "output_type": "stream",
     "text": [
      "1 10 a\n",
      "2 20 b\n",
      "3 30 c\n"
     ]
    }
   ],
   "source": [
    "xs = [1, 2, 3, 4]\n",
    "ys = [10, 20, 30, 40]\n",
    "zs = ['a', 'b', 'c',]\n",
    "\n",
    "for x, y, z in zip(xs, ys, zs):\n",
    "    print (x, y, z)"
   ]
  },
  {
   "cell_type": "markdown",
   "metadata": {},
   "source": [
    "### Custom HOF"
   ]
  },
  {
   "cell_type": "code",
   "execution_count": 24,
   "metadata": {},
   "outputs": [
    {
     "name": "stdout",
     "output_type": "stream",
     "text": [
      "30 \t 30\n",
      "100\n"
     ]
    }
   ],
   "source": [
    "def custom_sum(xs, transform):\n",
    "    \"\"\"Returns the sum of xs after a user specified transform.\"\"\"\n",
    "    return sum(map(transform, xs))\n",
    "\n",
    "xs = range(5)\n",
    "print (f\"{custom_sum(xs, square)} \\t {1+4+9+16}\")\n",
    "print (custom_sum(xs, cube))\n",
    "\n"
   ]
  },
  {
   "cell_type": "markdown",
   "metadata": {},
   "source": [
    "### Returning a function"
   ]
  },
  {
   "cell_type": "code",
   "execution_count": 26,
   "metadata": {},
   "outputs": [],
   "source": [
    "def make_logger(target):\n",
    "    def logger(data):\n",
    "        with open(target, 'a') as f:\n",
    "            f.write(data + '\\n')\n",
    "    return logger\n",
    "\n",
    "foo_logger = make_logger('foo.txt') #foo.txt will be created if not there already\n",
    "foo_logger('Hello')\n",
    "foo_logger('World')"
   ]
  },
  {
   "cell_type": "code",
   "execution_count": 29,
   "metadata": {},
   "outputs": [
    {
     "name": "stdout",
     "output_type": "stream",
     "text": [
      "Hello\n",
      "World\n",
      "Hello\n",
      "World\n",
      "00ex_introduction.ipynb  01_Fundamentals.ipynb\t    README.md\n",
      "00_introduction.ipynb\t foo.txt\t\t    token.txt\n",
      "01ex_Fundamentals.ipynb  README_GitInstructions.md\n"
     ]
    }
   ],
   "source": [
    "! cat 'foo.txt'    # Exclamation mark means code should be executed on bash\n",
    "! ls"
   ]
  },
  {
   "cell_type": "markdown",
   "metadata": {},
   "source": [
    "## Anonimous functions (lambda)\n",
    "\n",
    "When using functional style, there is often the need to create specific functions that perform a limited task as input to a HOF such as map or filter. In such cases, these functions are often written as anonymous or lambda functions. \n",
    "The syntax is as follows:\n",
    "\n",
    "lambda *arguments* : *expression*\n",
    "\n",
    "\n",
    "If you find it hard to understand what a lambda function is doing, it should probably be rewritten as a regular function."
   ]
  },
  {
   "cell_type": "code",
   "execution_count": 19,
   "metadata": {},
   "outputs": [
    {
     "data": {
      "text/plain": [
       "7"
      ]
     },
     "execution_count": 19,
     "metadata": {},
     "output_type": "execute_result"
    }
   ],
   "source": [
    "suml = lambda x,y: x+y\n",
    "suml(3,4)"
   ]
  },
  {
   "cell_type": "code",
   "execution_count": 20,
   "metadata": {},
   "outputs": [
    {
     "data": {
      "text/plain": [
       "7"
      ]
     },
     "execution_count": 20,
     "metadata": {},
     "output_type": "execute_result"
    }
   ],
   "source": [
    "(lambda x,y: x+y)(3,4)"
   ]
  },
  {
   "cell_type": "code",
   "execution_count": 21,
   "metadata": {},
   "outputs": [
    {
     "name": "stdout",
     "output_type": "stream",
     "text": [
      "0\n",
      "1\n",
      "4\n",
      "9\n",
      "16\n"
     ]
    }
   ],
   "source": [
    "for i in map(lambda x: x*x, range(5)): print (i)"
   ]
  },
  {
   "cell_type": "code",
   "execution_count": 41,
   "metadata": {},
   "outputs": [
    {
     "name": "stdout",
     "output_type": "stream",
     "text": [
      "285\n"
     ]
    }
   ],
   "source": [
    "# what does this function do?\n",
    "from functools import reduce\n",
    "s1 = reduce(lambda x, y: x+y, map(lambda x: x**2, range(1,10)))\n",
    "print(s1)\n",
    "\n",
    "# This function creates a map with squares of numbers from 1 to 9\n",
    "# Then with reduce it sums them up"
   ]
  },
  {
   "cell_type": "markdown",
   "metadata": {},
   "source": [
    "## Recursive functions "
   ]
  },
  {
   "cell_type": "code",
   "execution_count": 30,
   "metadata": {},
   "outputs": [
    {
     "name": "stdout",
     "output_type": "stream",
     "text": [
      "[1, 1, 2, 3, 5, 8, 13, 21, 34, 55]\n"
     ]
    }
   ],
   "source": [
    "def fib1(n):\n",
    "    \"\"\"Fib with recursion.\"\"\"\n",
    "\n",
    "    # base case\n",
    "    if n==0 or n==1:\n",
    "        return 1\n",
    "    # recursive case\n",
    "    else:\n",
    "        return fib1(n-1) + fib1(n-2)\n",
    "\n",
    "    \n",
    "print ([fib1(i) for i in range(10)])"
   ]
  },
  {
   "cell_type": "code",
   "execution_count": 31,
   "metadata": {},
   "outputs": [
    {
     "name": "stdout",
     "output_type": "stream",
     "text": [
      "[1, 1, 2, 3, 5, 8, 13, 21, 34, 55]\n"
     ]
    }
   ],
   "source": [
    "# In Python, a more efficient version that does not use recursion is\n",
    "\n",
    "def fib2(n):\n",
    "    \"\"\"Fib without recursion.\"\"\"\n",
    "    a, b = 0, 1\n",
    "    for i in range(1, n+1):\n",
    "        a, b = b, a+b\n",
    "    return b\n",
    "\n",
    "print ([fib2(i) for i in range(10)])"
   ]
  },
  {
   "cell_type": "code",
   "execution_count": 38,
   "metadata": {},
   "outputs": [
    {
     "name": "stdout",
     "output_type": "stream",
     "text": [
      "2.37 ms ± 230 μs per loop (mean ± std. dev. of 7 runs, 100 loops each)\n",
      "2.25 ms ± 164 μs per loop (mean ± std. dev. of 7 runs, 100 loops each)\n"
     ]
    }
   ],
   "source": [
    "# check indeed the timing:\n",
    "\n",
    "%timeit fib1(20)\n",
    "%timeit fib2(8000)\n"
   ]
  },
  {
   "cell_type": "markdown",
   "metadata": {},
   "source": [
    "## Iterators\n",
    "\n",
    "Iterators represent streams of values. Because only one value is consumed at a time, they use very little memory. Use of iterators is very helpful for working with data sets too large to fit into RAM."
   ]
  },
  {
   "cell_type": "code",
   "execution_count": 44,
   "metadata": {},
   "outputs": [
    {
     "name": "stdout",
     "output_type": "stream",
     "text": [
      "1\n",
      "2\n",
      "3\n",
      "pilo\n"
     ]
    }
   ],
   "source": [
    "# Iterators can be created from sequences with the built-in function iter()\n",
    "\n",
    "xs = [1,2,3,\"pilo\"]\n",
    "x_iter = iter(xs)\n",
    "\n",
    "print (next(x_iter))\n",
    "print (next(x_iter))\n",
    "print (next(x_iter))\n",
    "print (next(x_iter))"
   ]
  },
  {
   "cell_type": "code",
   "execution_count": 27,
   "metadata": {},
   "outputs": [
    {
     "name": "stdout",
     "output_type": "stream",
     "text": [
      "1\n",
      "2\n",
      "3\n"
     ]
    }
   ],
   "source": [
    "# Most commonly, iterators are used (automatically) within a for loop\n",
    "# which terminates when it encouters a StopIteration exception\n",
    "\n",
    "x_iter = iter(xs)\n",
    "for x in x_iter:\n",
    "    print (x)"
   ]
  },
  {
   "cell_type": "markdown",
   "metadata": {},
   "source": [
    "## More on comprehensions"
   ]
  },
  {
   "cell_type": "code",
   "execution_count": 47,
   "metadata": {},
   "outputs": [
    {
     "name": "stdout",
     "output_type": "stream",
     "text": [
      "<generator object <genexpr> at 0x7fc4825c4c40>\n",
      "[0, 1, 4, 9, 16, 25, 36, 49, 64, 81]\n",
      "{0, 1, 2, 3, 4, 5, 6, 7, 8, 9}\n",
      "{'0': 0, '2': 4, '4': 16, '6': 36, '8': 64}\n"
     ]
    }
   ],
   "source": [
    "# A generator expression\n",
    "\n",
    "print ((x for x in range(10)))\n",
    "\n",
    "# A list comprehesnnion\n",
    "\n",
    "print ([x**2 for x in range(10)])\n",
    "\n",
    "# A set comprehension\n",
    "\n",
    "print ({x for x in range(10)})\n",
    "\n",
    "# A dictionary comprehension\n",
    "\n",
    "print ({str(x): x**2 for x in range(10) if x%2==0})"
   ]
  },
  {
   "cell_type": "markdown",
   "metadata": {},
   "source": [
    "## Useful Modules\n",
    "\n",
    "You may want to have a look at the content of the following modules for further usage of (HO) functions:\n",
    "  - [operator](https://docs.python.org/3/library/operator.html)\n",
    "  - [functools](https://docs.python.org/3/library/functools.html)\n",
    "  - [itertools](https://docs.python.org/3/library/itertools.html)\n",
    "  - [toolz](https://pypi.org/project/toolz/)\n",
    "  - [funcy](https://pypi.org/project/funcy/)"
   ]
  },
  {
   "cell_type": "markdown",
   "metadata": {},
   "source": [
    "## Decorators\n",
    "\n",
    "Decorators are a type of HOF that take a function and return a wrapped function that provides additional useful properties.\n",
    "\n",
    "Examples:\n",
    "\n",
    "  - logging\n",
    "  - profiling\n",
    "  - Just-In-Time (JIT) compilation"
   ]
  },
  {
   "cell_type": "code",
   "execution_count": 52,
   "metadata": {},
   "outputs": [],
   "source": [
    "def my_decorator(func):\n",
    "    def wrapper():\n",
    "        print(\"Something is happening before the function is called.\")\n",
    "        func()\n",
    "        print(\"Something is happening after the function is called.\")\n",
    "    return wrapper\n",
    "\n",
    "def say_whee():\n",
    "    print(\"Whee!\")\n",
    "\n",
    "say_whee = my_decorator(say_whee)"
   ]
  },
  {
   "cell_type": "code",
   "execution_count": 53,
   "metadata": {},
   "outputs": [
    {
     "name": "stdout",
     "output_type": "stream",
     "text": [
      "Something is happening before the function is called.\n",
      "Whee!\n",
      "Something is happening after the function is called.\n"
     ]
    }
   ],
   "source": [
    "say_whee()"
   ]
  },
  {
   "cell_type": "markdown",
   "metadata": {},
   "source": [
    "Python allows you to use decorators in a simpler way with the @ symbol, sometimes called the “pie” syntax"
   ]
  },
  {
   "cell_type": "code",
   "execution_count": 54,
   "metadata": {},
   "outputs": [],
   "source": [
    "def my_decorator(func):\n",
    "    def wrapper():\n",
    "        print(\"Something is happening before the function is called.\")\n",
    "        func()\n",
    "        print(\"Something is happening after the function is called.\")\n",
    "    return wrapper\n",
    "\n",
    "@my_decorator\n",
    "def say_whee():\n",
    "    print(\"Whee!\")"
   ]
  },
  {
   "cell_type": "code",
   "execution_count": 55,
   "metadata": {},
   "outputs": [
    {
     "name": "stdout",
     "output_type": "stream",
     "text": [
      "Something is happening before the function is called.\n",
      "Whee!\n",
      "Something is happening after the function is called.\n"
     ]
    }
   ],
   "source": [
    "say_whee()"
   ]
  },
  {
   "cell_type": "markdown",
   "metadata": {},
   "source": [
    "#### JIT\n",
    "\n",
    "A JIT (Just-In-Time) compiler refers to a technique used to improve the performance of code execution by compiling code into machine code at runtime, rather than interpreting it line by line. This helps speed up program execution by reducing the overhead of repeatedly interpreting code.\n",
    "\n",
    "While the standard Python interpreter, CPython, does not include a JIT compiler, there are alternative Python implementations that provide JIT compilation, such as PyPy or [numba](https://numba.pydata.org).\n",
    "\n",
    "JIT combines both interpretation and compilation. It interprets code initially, and as it identifies sections of code that are executed repeatedly, it compiles them to machine code, optimizing performance dynamically.\n",
    "\n"
   ]
  },
  {
   "cell_type": "code",
   "execution_count": 58,
   "metadata": {},
   "outputs": [],
   "source": [
    "from numba import jit\n",
    "\n",
    "@jit(nopython=True)\n",
    "def fast_sum(arr):\n",
    "    total = 0.0  # check thi \n",
    "    for i in arr:\n",
    "        total += i\n",
    "    return total\n"
   ]
  },
  {
   "cell_type": "code",
   "execution_count": null,
   "metadata": {},
   "outputs": [],
   "source": [
    "import timeit\n",
    "\n",
    "#fast_sum(list(range(100)))\n",
    "#fast_sum([1,2,3,4,5])\n",
    "\n",
    "arr = np.arange(int(1e6), dtype=np.float64)\n",
    "time_taken = timeit.timeit(\"fast_sum(arr)\", globals=globals(), number=10)\n",
    "print(f\"Value: {fast_sum(arr)} \\t time: {time_taken}\")\n",
    "\n",
    "# is it really fast? Try to compare with my_add above"
   ]
  },
  {
   "cell_type": "markdown",
   "metadata": {},
   "source": [
    "# Classes and Objects\n",
    "\n",
    "Old school object-oriented programming is possible and often used in python. Classes are defined similarly to standard object-oriented languages, with similar functionalities.\n",
    "\n",
    "The main python doc [page](https://docs.python.org/3/tutorial/classes.html) is worth reading through "
   ]
  },
  {
   "cell_type": "code",
   "execution_count": 1,
   "metadata": {},
   "outputs": [
    {
     "name": "stdout",
     "output_type": "stream",
     "text": [
      "buddy 4\n",
      "None\n",
      "12\n"
     ]
    }
   ],
   "source": [
    "class Pet:\n",
    "    # the \"constructor\"\n",
    "    def __init__(self, name, age):  #inizialize the elements of the class\n",
    "        self.name=name\n",
    "        self.age=age\n",
    "    # class functions take the \"self\" parameter !!!\n",
    "    def set_name(self,name):\n",
    "        self.name=name\n",
    "    def convert_age(self,factor):\n",
    "        self.age*=factor\n",
    "\n",
    "buddy=Pet(\"buddy\",4)\n",
    "print (buddy.name, buddy.age)\n",
    "buddy.age=3\n",
    "print (buddy.convert_age(4))\n",
    "print (buddy.age)\n"
   ]
  },
  {
   "cell_type": "code",
   "execution_count": null,
   "metadata": {},
   "outputs": [],
   "source": [
    "# ineritance is straightforward\n",
    "class Dog(Pet):\n",
    "    # the following variables is \"global\", i.e. holds for all \"Dog\" objects\n",
    "    species = \"mammal\"\n",
    "    # functions can be redefined as usual\n",
    "    def convert_age(self):\n",
    "        self.age*=7\n",
    "    def set_species(self, species):\n",
    "        self.species = species\n",
    "        \n",
    "puppy=Dog(\"tobia\",10)\n",
    "print(puppy.name)\n",
    "puppy.convert_age()\n",
    "print(puppy.age)\n",
    "\n"
   ]
  },
  {
   "cell_type": "code",
   "execution_count": 42,
   "metadata": {},
   "outputs": [
    {
     "name": "stdout",
     "output_type": "stream",
     "text": [
      "499999500000.0\n"
     ]
    }
   ],
   "source": [
    "from numba import jit\n",
    "import numpy as np\n",
    "\n",
    "@jit(nopython=True)\n",
    "def fast_sum(arr):\n",
    "    total = 0.0  # float to match arr.dtype\n",
    "    for i in arr:\n",
    "        total += i\n",
    "    return total\n",
    "\n",
    "arr = np.arange(1_000_000, dtype=np.float64)\n",
    "print(fast_sum(arr))\n"
   ]
  },
  {
   "cell_type": "code",
   "execution_count": null,
   "metadata": {},
   "outputs": [],
   "source": []
  }
 ],
 "metadata": {
  "kernelspec": {
   "display_name": "Python 3 (ipykernel)",
   "language": "python",
   "name": "python3"
  },
  "language_info": {
   "codemirror_mode": {
    "name": "ipython",
    "version": 3
   },
   "file_extension": ".py",
   "mimetype": "text/x-python",
   "name": "python",
   "nbconvert_exporter": "python",
   "pygments_lexer": "ipython3",
   "version": "3.13.7"
  }
 },
 "nbformat": 4,
 "nbformat_minor": 4
}
