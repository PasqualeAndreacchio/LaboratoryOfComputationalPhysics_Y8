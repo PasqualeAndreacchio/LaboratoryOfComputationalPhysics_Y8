{
 "cells": [
  {
   "cell_type": "markdown",
   "id": "b5746bd0",
   "metadata": {},
   "source": [
    "The following exercises are meant to be solved by gathering the bash commands incrimentally in two scripts, one for ex 1.* the other for ex 2.* "
   ]
  },
  {
   "cell_type": "markdown",
   "id": "4e60de78",
   "metadata": {},
   "source": [
    "### Ex 1"
   ]
  },
  {
   "cell_type": "markdown",
   "id": "6759df36",
   "metadata": {},
   "source": [
    "1\\.a Make a new directory called `students` in your home. Download a csv file with the list of students of this lab from [here](https://www.dropbox.com/s/867rtx3az6e9gm8/LCP_22-23_students.csv) (use the `wget` command) and copy that to `students`. First check whether the file is already there"
   ]
  },
  {
   "cell_type": "markdown",
   "id": "798c0c9d",
   "metadata": {},
   "source": [
    "1\\.b Make two new files, one containing the students belonging to PoD, the other to Physics."
   ]
  },
  {
   "cell_type": "markdown",
   "id": "8a43d622",
   "metadata": {},
   "source": [
    "1\\.c For each letter of the alphabet, count the number of students whose surname starts with that letter. "
   ]
  },
  {
   "cell_type": "markdown",
   "id": "4ba6bc90",
   "metadata": {},
   "source": [
    "1\\.d Find out which is the letter with most counts."
   ]
  },
  {
   "cell_type": "markdown",
   "id": "086a043c",
   "metadata": {},
   "source": [
    "1\\.e Assume an obvious numbering of the students in the file (first line is 1, second line is 2, etc.), group students \"modulo 18\", i.e. 1,19,37,.. 2,20,38,.. etc. and put each group in a separate file  "
   ]
  },
  {
   "cell_type": "code",
   "execution_count": 6,
   "id": "61e9405e-2250-4171-a2d8-f4321cb44403",
   "metadata": {},
   "outputs": [
    {
     "ename": "SyntaxError",
     "evalue": "invalid syntax (834139202.py, line 3)",
     "output_type": "error",
     "traceback": [
      "\u001b[0;36m  Cell \u001b[0;32mIn[6], line 3\u001b[0;36m\u001b[0m\n\u001b[0;31m    mkdir students\u001b[0m\n\u001b[0m          ^\u001b[0m\n\u001b[0;31mSyntaxError\u001b[0m\u001b[0;31m:\u001b[0m invalid syntax\n"
     ]
    }
   ],
   "source": [
    "# Punto 1e\n",
    "\n",
    "#!/bin/bash\n",
    "\n",
    "lines=$(grep -c \"\" 'LCP_22-23_students.csv?rlkey=47fakvatrtif3q3qw4q97p5b7')\n",
    "\n",
    "for (( i=2 ; i < $lines ; i++ )); do\n",
    "\tif [ $i -lt 20 ]; then\n",
    "   \t filename=\"Group $((i-1))\"\n",
    "   \t touch $filename\n",
    "    \t line=$(sed -n \"${i}p\" 'LCP_22-23_students.csv?rlkey=47fakvatrtif3q3qw4q97p5b7')\n",
    "    \t echo \"$line\" > \"$filename\"\n",
    "       \n",
    "        else\n",
    "         filename=\"Group $(( i % 18 ))\"\n",
    "         line=$(sed -n \"${i}p\" 'LCP_22-23_students.csv?rlkey=47fakvatrtif3q3qw4q97p5b7')\n",
    "    \t echo \"$line\" >> \"$filename\"\n",
    "        fi\n",
    "done "
   ]
  },
  {
   "cell_type": "markdown",
   "id": "1d730d21",
   "metadata": {},
   "source": [
    "### Ex 2"
   ]
  },
  {
   "cell_type": "markdown",
   "id": "4b87ecb7",
   "metadata": {},
   "source": [
    "2.a Make a copy of the file `data.csv` removing the metadata and the commas between numbers; call it `data.txt`"
   ]
  },
  {
   "cell_type": "code",
   "execution_count": null,
   "id": "ef3a9d88-eabd-46d7-a2d0-64deb84d0aa4",
   "metadata": {},
   "outputs": [],
   "source": [
    "#!/bin/bash\n",
    "\n",
    "lines=$(grep -c \"\" \"data.csv\")\n",
    "touch data.txt\n",
    "\n",
    "grep -v \"^#\" data.csv | tr -d \",\" >> data.txt\n",
    "\n",
    "# Anche sed '/^#/d; s/,//g' data.csv > data.txt"
   ]
  },
  {
   "cell_type": "markdown",
   "id": "344048c8",
   "metadata": {},
   "source": [
    "2\\.b How many even numbers are there?"
   ]
  },
  {
   "cell_type": "code",
   "execution_count": null,
   "id": "3127e311-79e1-4c79-85ab-9b7d4f1fed66",
   "metadata": {},
   "outputs": [],
   "source": [
    "#!/bin/bash\n",
    "\n",
    "count=0\n",
    "\n",
    "for n in $(cat data.txt); do\n",
    "  if (( n % 2 == 0 )); then\n",
    "    ((count++))\n",
    "  fi\n",
    "done\n",
    "echo \"Even numbers: $count\""
   ]
  },
  {
   "cell_type": "markdown",
   "id": "2a27138d",
   "metadata": {},
   "source": [
    "2\\.c Distinguish the entries on the basis of `sqrt(X^2 + Y^2 + Z^2)` is greater or smaller than `100*sqrt(3)/2`. Count the entries of each of the two groups "
   ]
  },
  {
   "cell_type": "code",
   "execution_count": null,
   "id": "e436a6db-a5d4-46ed-8a01-28805cbdb71a",
   "metadata": {},
   "outputs": [],
   "source": [
    "#!/bin/bash\n",
    "\n",
    "threshold=$(echo \"scale=6; 100 * sqrt(3) / 2\" | bc -l)\n",
    "rm smaller.txt greater.txt\n",
    "\n",
    "while read -r line; do\n",
    " set -- $line\n",
    " x=$1\n",
    " y=$2\n",
    " z=$3\n",
    " \n",
    " sumq=$(echo $x*$x + $y*$y + $z*$z | bc -l)\n",
    " root=$(echo \"scale=6; sqrt($sumq)\" | bc -l)\n",
    " touch greater.txt smaller.txt\n",
    " \n",
    " is_less=$(echo \"$root < $threshold\" | bc -l)\n",
    " \n",
    " if [ $is_less -eq 1 ]; then\n",
    "  echo \"$x $y $z\" >> smaller.txt\n",
    " \n",
    " else\n",
    "  echo \"$x $y $z\" >> greater.txt\n",
    " fi\n",
    "\n",
    "done < data.txt\n",
    "\n",
    "\n",
    "# Counting entries\n",
    "gr=$(grep -c \"\" greater.txt)\n",
    "sm=$(grep -c \"\" smaller.txt)\n",
    "\n",
    "echo \"Greater: $gr\"\n",
    "echo \"Smaller: $sm\""
   ]
  },
  {
   "cell_type": "raw",
   "id": "9a5f785e-e910-46cb-8df4-76d22556a4b3",
   "metadata": {},
   "source": [
    "2\\.d Make `n` copies of data.txt (with `n` an input parameter of the script), where the i-th copy has all the numbers divided by i (with `1<=i<=n`)."
   ]
  },
  {
   "cell_type": "code",
   "execution_count": null,
   "id": "e19909c0-f674-4e2a-aecf-b68ded25c6ca",
   "metadata": {},
   "outputs": [],
   "source": [
    "#!/bin/bash\n",
    "\n",
    "n=10\n",
    "\n",
    "for (( i=1 ; i < (n+1) ; i++ )); do\n",
    " filename=\"data_$i.txt\"\n",
    " > \"$filename\"   # Create or empty the file\n",
    " \n",
    " while read -r line; do\n",
    "  # Select all values in the line\n",
    "  for value in $line; do\n",
    "   result=$(echo \"scale=2; $value/$i\" | bc -l)\n",
    "   echo -n \"$result \" >> \"$filename\" \n",
    "  done\n",
    "  echo \"\" >> \"$filename\"   # New line\n",
    "\n",
    " done < data.txt\n",
    "done"
   ]
  }
 ],
 "metadata": {
  "kernelspec": {
   "display_name": "Python 3 (ipykernel)",
   "language": "python",
   "name": "python3"
  },
  "language_info": {
   "codemirror_mode": {
    "name": "ipython",
    "version": 3
   },
   "file_extension": ".py",
   "mimetype": "text/x-python",
   "name": "python",
   "nbconvert_exporter": "python",
   "pygments_lexer": "ipython3",
   "version": "3.13.9"
  }
 },
 "nbformat": 4,
 "nbformat_minor": 5
}
